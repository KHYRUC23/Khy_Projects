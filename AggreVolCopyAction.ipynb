{
 "cells": [
  {
   "cell_type": "code",
   "execution_count": 1,
   "metadata": {},
   "outputs": [],
   "source": [
    "import pandas as pd"
   ]
  },
  {
   "cell_type": "code",
   "execution_count": 2,
   "metadata": {},
   "outputs": [],
   "source": [
    "\"\"\"master_file = input(\"Enter full path of Master Sheet: \")\n",
    "file_to_append = input(\"Enter full path of Appeneded File: \")\"\"\"\n",
    "inp = input(\"Enter the date of the report (YYYY-MM-DD): \")\n"
   ]
  },
  {
   "cell_type": "code",
   "execution_count": 3,
   "metadata": {},
   "outputs": [],
   "source": [
    "# Read both Excel files\n",
    "master_file = 'copy Volume Master Sheet.xlsx'\n",
    "file_to_appendNPH = 'capacity-volumes-23-Jul-2024NPH.xlsx'\n",
    "file_to_appendDRT = 'capacity-volumes-23-Jul-2024DRT.xlsx'"
   ]
  },
  {
   "cell_type": "code",
   "execution_count": 4,
   "metadata": {},
   "outputs": [],
   "source": [
    "master_df = pd.read_excel(master_file)\n",
    "append_df = pd.read_excel(file_to_appendNPH)\n",
    "append_df2 = pd.read_excel(file_to_appendDRT)"
   ]
  },
  {
   "cell_type": "code",
   "execution_count": 5,
   "metadata": {},
   "outputs": [
    {
     "name": "stdout",
     "output_type": "stream",
     "text": [
      "['Inode Utilization %', 'Space Guarantee', 'SnapLock Type', 'Snapshot Reserve Available Capacity (GB)', 'Snapshot Reserve Used %', 'Snapshot Reserve Used Capacity (GB)', 'Snapshot Autodelete', 'State', 'Deduplication', 'Caching Policy', 'Snapshot Reserve Available %', 'Daily Growth Rate %', 'Compression', 'Total Data Capacity (GB)', 'Snapshot Overflow %', 'Days To Full', 'Cache Retention Priority', 'Autogrow', 'Cluster', 'Volume', 'Available Data %', 'Used Data Capacity (GB)', 'Available Data Capacity (GB)', 'Thin Provisioned', 'Used Data %', 'Tiering Policy', 'Snapshot Reserve Total Capacity (GB)']\n"
     ]
    }
   ],
   "source": [
    "# Get common columns between the two dataframes\n",
    "column_lst = list(set(master_df.columns) & set(append_df2.columns))\n",
    "print(column_lst)"
   ]
  },
  {
   "cell_type": "code",
   "execution_count": 6,
   "metadata": {},
   "outputs": [
    {
     "name": "stdout",
     "output_type": "stream",
     "text": [
      "['Daily Growth Rate %', 'Total Data Capacity (GB)', 'Days To Full', 'Cluster', 'Volume', 'Available Data %', 'Used Data Capacity (GB)', 'Available Data Capacity (GB)', 'Used Data %', 'Storage Virtual Machine']\n"
     ]
    }
   ],
   "source": [
    "\n",
    "wanted_values = {'Volume','Days To Full', 'Available Data Capacity (GB)', 'Aggregate', 'Available Data %', 'HA Pair', 'Used Data %', 'Used Data Capacity (GB)', 'Cluster', 'Total Data Capacity (GB)', 'Daily Growth Rate %'} \n",
    "common_columns  = [elem for elem in column_lst if elem in wanted_values]\n",
    "common_columns.append(\"Storage Virtual Machine\")\n",
    "\n",
    "print(common_columns)\n",
    "\n"
   ]
  },
  {
   "cell_type": "code",
   "execution_count": 7,
   "metadata": {},
   "outputs": [],
   "source": [
    "append_df2[\"Storage Virtual Machine\"] = append_df2[\"Storage VM\"]\n",
    "append_df[\"Storage Virtual Machine\"] = append_df[\"Storage VM\"]\n",
    "# Filter rows from append_df based on common columns\n",
    "filtered_append_df = append_df[common_columns]\n",
    "filtered_append_df2 = append_df2[common_columns]\n",
    "\n",
    "# Append filtered data to master_df\n",
    "master_df = pd.concat([master_df, filtered_append_df], ignore_index=True)\n",
    "master_df = pd.concat([master_df, filtered_append_df2], ignore_index=True)\n",
    "usr_date = pd.to_datetime(inp).strftime(\"%m-%d-%Y\")\n",
    "master_df['Week Starting'] = master_df['Week Starting'].fillna(usr_date)"
   ]
  },
  {
   "cell_type": "code",
   "execution_count": 8,
   "metadata": {},
   "outputs": [
    {
     "name": "stdout",
     "output_type": "stream",
     "text": [
      "Data appended to copy Volume Master Sheet.xlsx.\n"
     ]
    }
   ],
   "source": [
    "# Save the updated master_df\n",
    "master_df.to_excel(master_file, index=False)\n",
    "print(f\"Data appended to {master_file}.\")"
   ]
  }
 ],
 "metadata": {
  "kernelspec": {
   "display_name": "Python 3",
   "language": "python",
   "name": "python3"
  },
  "language_info": {
   "codemirror_mode": {
    "name": "ipython",
    "version": 3
   },
   "file_extension": ".py",
   "mimetype": "text/x-python",
   "name": "python",
   "nbconvert_exporter": "python",
   "pygments_lexer": "ipython3",
   "version": "3.11.9"
  }
 },
 "nbformat": 4,
 "nbformat_minor": 2
}
